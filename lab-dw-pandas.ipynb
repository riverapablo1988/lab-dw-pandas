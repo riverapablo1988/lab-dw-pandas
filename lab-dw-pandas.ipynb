{
 "cells": [
  {
   "cell_type": "markdown",
   "id": "25d7736c-ba17-4aff-b6bb-66eba20fbf4e",
   "metadata": {},
   "source": [
    "# Lab | Pandas"
   ]
  },
  {
   "cell_type": "markdown",
   "id": "d1973e9e-8be6-4039-b70e-d73ee0d94c99",
   "metadata": {},
   "source": [
    "In this lab, we will be working with the customer data from an insurance company, which can be found in the CSV file located at the following link: https://raw.githubusercontent.com/data-bootcamp-v4/data/main/file1.csv\n",
    "\n",
    "The data includes information such as customer ID, state, gender, education, income, and other variables that can be used to perform various analyses.\n",
    "\n",
    "Throughout the lab, we will be using the pandas library in Python to manipulate and analyze the data. Pandas is a powerful library that provides various data manipulation and analysis tools, including the ability to load and manipulate data from a variety of sources, including CSV files."
   ]
  },
  {
   "cell_type": "markdown",
   "id": "8045146f-f4f7-44d9-8cd9-130d6400c73a",
   "metadata": {},
   "source": [
    "### Data Description\n",
    "\n",
    "- Customer - Customer ID\n",
    "\n",
    "- ST - State where customers live\n",
    "\n",
    "- Gender - Gender of the customer\n",
    "\n",
    "- Education - Background education of customers \n",
    "\n",
    "- Customer Lifetime Value - Customer lifetime value(CLV) is the total revenue the client will derive from their entire relationship with a customer. In other words, is the predicted or calculated value of a customer over their entire duration as a policyholder with the insurance company. It is an estimation of the net profit that the insurance company expects to generate from a customer throughout their relationship with the company. Customer Lifetime Value takes into account factors such as the duration of the customer's policy, premium payments, claim history, renewal likelihood, and potential additional services or products the customer may purchase. It helps insurers assess the long-term profitability and value associated with retaining a particular customer.\n",
    "\n",
    "- Income - Customers income\n",
    "\n",
    "- Monthly Premium Auto - Amount of money the customer pays on a monthly basis as a premium for their auto insurance coverage. It represents the recurring cost that the insured person must pay to maintain their insurance policy and receive coverage for potential damages, accidents, or other covered events related to their vehicle.\n",
    "\n",
    "- Number of Open Complaints - Number of complaints the customer opened\n",
    "\n",
    "- Policy Type - There are three type of policies in car insurance (Corporate Auto, Personal Auto, and Special Auto)\n",
    "\n",
    "- Vehicle Class - Type of vehicle classes that customers have Two-Door Car, Four-Door Car SUV, Luxury SUV, Sports Car, and Luxury Car\n",
    "\n",
    "- Total Claim Amount - the sum of all claims made by the customer. It represents the total monetary value of all approved claims for incidents such as accidents, theft, vandalism, or other covered events.\n"
   ]
  },
  {
   "cell_type": "markdown",
   "id": "3a72419b-20fc-4905-817a-8c83abc59de6",
   "metadata": {},
   "source": [
    "External Resources: https://towardsdatascience.com/filtering-data-frames-in-pandas-b570b1f834b9"
   ]
  },
  {
   "cell_type": "markdown",
   "id": "8f8ece17-e919-4e23-96c0-c7c59778436a",
   "metadata": {},
   "source": [
    "## Challenge 1: Understanding the data\n",
    "\n",
    "In this challenge, you will use pandas to explore a given dataset. Your task is to gain a deep understanding of the data by analyzing its characteristics, dimensions, and statistical properties."
   ]
  },
  {
   "cell_type": "markdown",
   "id": "91437bd5-59a6-49c0-8150-ef0e6e6eb253",
   "metadata": {},
   "source": [
    "- Identify the dimensions of the dataset by determining the number of rows and columns it contains.\n",
    "- Determine the data types of each column and evaluate whether they are appropriate for the nature of the variable. You should also provide suggestions for fixing any incorrect data types.\n",
    "- Identify the number of unique values for each column and determine which columns appear to be categorical. You should also describe the unique values of each categorical column and the range of values for numerical columns, and give your insights.\n",
    "- Compute summary statistics such as mean, median, mode, standard deviation, and quartiles to understand the central tendency and distribution of the data for numerical columns. You should also provide your conclusions based on these summary statistics.\n",
    "- Compute summary statistics for categorical columns and providing your conclusions based on these statistics."
   ]
  },
  {
   "cell_type": "code",
   "execution_count": null,
   "id": "dd4e8cd8-a6f6-486c-a5c4-1745b0c035f4",
   "metadata": {},
   "outputs": [],
   "source": [
    "import pandas as pd\n",
    "\n",
    "url = \"https://raw.githubusercontent.com/data-bootcamp-v4/data/main/file1.csv\"\n",
    "df = pd.read_csv(url)\n",
    "\n",
    "df.head"
   ]
  },
  {
   "cell_type": "code",
   "execution_count": 5,
   "id": "1738b146-ab58-48bc-832a-a26ffb5979f7",
   "metadata": {},
   "outputs": [
    {
     "data": {
      "text/plain": [
       "(4008, 11)"
      ]
     },
     "execution_count": 5,
     "metadata": {},
     "output_type": "execute_result"
    }
   ],
   "source": [
    "df.shape"
   ]
  },
  {
   "cell_type": "code",
   "execution_count": 6,
   "id": "52945609-14d3-43ee-a46e-a88bc3fcd818",
   "metadata": {},
   "outputs": [
    {
     "data": {
      "text/plain": [
       "Customer                      object\n",
       "ST                            object\n",
       "GENDER                        object\n",
       "Education                     object\n",
       "Customer Lifetime Value       object\n",
       "Income                       float64\n",
       "Monthly Premium Auto         float64\n",
       "Number of Open Complaints     object\n",
       "Policy Type                   object\n",
       "Vehicle Class                 object\n",
       "Total Claim Amount           float64\n",
       "dtype: object"
      ]
     },
     "execution_count": 6,
     "metadata": {},
     "output_type": "execute_result"
    }
   ],
   "source": [
    "df.dtypes"
   ]
  },
  {
   "cell_type": "code",
   "execution_count": 10,
   "id": "8354a032-55c3-4dd9-9d0c-39f78106b445",
   "metadata": {},
   "outputs": [
    {
     "name": "stdout",
     "output_type": "stream",
     "text": [
      "Customer                     1071\n",
      "ST                              8\n",
      "GENDER                          5\n",
      "Education                       6\n",
      "Customer Lifetime Value         0\n",
      "Income                        774\n",
      "Monthly Premium Auto          132\n",
      "Number of Open Complaints       0\n",
      "Policy Type                     3\n",
      "Vehicle Class                   6\n",
      "Total Claim Amount            761\n",
      "dtype: int64\n"
     ]
    }
   ],
   "source": [
    "unique_counts = df.nunique()\n",
    "print(unique_counts)"
   ]
  },
  {
   "cell_type": "code",
   "execution_count": null,
   "id": "50cb8eb5-fa61-4df4-957c-45108bc2f6ff",
   "metadata": {},
   "outputs": [],
   "source": [
    "unique_counts = df.nunique()\n",
    "print(\"Unique values:\")\n",
    "print(unique_counts)\n",
    "\n",
    "categorical_cols = df.select_dtypes(include=\"object\").columns.tolist()\n",
    "numeric_cols = df.select_dtypes(include=\"number\").columns.tolist()\n",
    "\n",
    "print(\"\\nCategorical columns and unique values:\")\n",
    "for col in categorical_cols:\n",
    "    print(f\"\\n{col}:\")\n",
    "    print(df[col].unique())\n",
    "\n",
    "print(\"\\nNumerical columns:\")\n",
    "for col in numeric_cols:\n",
    "    print(f\"\\n{col}\")\n",
    "    print(\"Min:\", df[col].min())\n",
    "    print(\"Max:\", df[col].max())"
   ]
  },
  {
   "cell_type": "code",
   "execution_count": 14,
   "id": "8c78e3be-620c-45d1-9606-b715691de2de",
   "metadata": {},
   "outputs": [
    {
     "name": "stdout",
     "output_type": "stream",
     "text": [
      "Summary statistics for numerical columns:\n",
      "\n",
      "Means:\n",
      "Customer Lifetime Value               NaN\n",
      "Income                       39295.701214\n",
      "Monthly Premium Auto           193.234360\n",
      "Number of Open Complaints             NaN\n",
      "Total Claim Amount             404.986909\n",
      "dtype: float64\n",
      "\n",
      "Medians:\n",
      "Customer Lifetime Value               NaN\n",
      "Income                       36234.000000\n",
      "Monthly Premium Auto            83.000000\n",
      "Number of Open Complaints             NaN\n",
      "Total Claim Amount             354.729129\n",
      "dtype: float64\n",
      "\n",
      "Modes:\n",
      "Customer Lifetime Value        NaN\n",
      "Income                         0.0\n",
      "Monthly Premium Auto          65.0\n",
      "Number of Open Complaints      NaN\n",
      "Total Claim Amount           321.6\n",
      "Name: 0, dtype: float64\n",
      "\n",
      "Standard Deviations:\n",
      "Customer Lifetime Value               NaN\n",
      "Income                       30469.427060\n",
      "Monthly Premium Auto          1601.190369\n",
      "Number of Open Complaints             NaN\n",
      "Total Claim Amount             293.027260\n",
      "dtype: float64\n",
      "\n",
      "Quartiles (25%, 50%, 75%):\n",
      "      Customer Lifetime Value   Income  Monthly Premium Auto  \\\n",
      "0.25                      NaN  14072.0                  68.0   \n",
      "0.50                      NaN  36234.0                  83.0   \n",
      "0.75                      NaN  64631.0                 109.5   \n",
      "\n",
      "      Number of Open Complaints  Total Claim Amount  \n",
      "0.25                        NaN          202.157702  \n",
      "0.50                        NaN          354.729129  \n",
      "0.75                        NaN          532.800000  \n"
     ]
    }
   ],
   "source": [
    "numeric_df = df.select_dtypes(include=\"number\")\n",
    "\n",
    "print(\"Statistics for numerical columns:\")\n",
    "print(\"\\nMeans:\")\n",
    "print(numeric_df.mean())\n",
    "print(\"\\nMedians:\")\n",
    "print(numeric_df.median())\n",
    "print(\"\\nModes:\")\n",
    "print(numeric_df.mode().iloc[0])\n",
    "print(\"\\nStandard Deviations:\")\n",
    "print(numeric_df.std())\n",
    "print(\"\\nQuartiles (25%, 50%, 75%):\")\n",
    "print(numeric_df.quantile([0.25, 0.5, 0.75]))"
   ]
  },
  {
   "cell_type": "code",
   "execution_count": 15,
   "id": "12caeef1-12d6-4e73-aec8-e53f815be63f",
   "metadata": {},
   "outputs": [
    {
     "name": "stdout",
     "output_type": "stream",
     "text": [
      "Summary statistics for categorical columns:\n",
      "       Customer      ST GENDER Education    Policy Type  Vehicle Class\n",
      "count      1071    1071    954      1071           1071           1071\n",
      "unique     1071       8      5         6              3              6\n",
      "top     MY31220  Oregon      F  Bachelor  Personal Auto  Four-Door Car\n",
      "freq          1     320    457       324            780            576\n"
     ]
    }
   ],
   "source": [
    "categorical_df = df.select_dtypes(include=\"object\")\n",
    "\n",
    "print(\"Statistics for categorical columns:\")\n",
    "print(categorical_df.describe(include=\"object\"))"
   ]
  },
  {
   "cell_type": "markdown",
   "id": "4a703890-63db-4944-b7ab-95a4f8185120",
   "metadata": {},
   "source": [
    "## Challenge 2: analyzing the data"
   ]
  },
  {
   "cell_type": "markdown",
   "id": "0776a403-c56a-452f-ac33-5fd4fdb06fc7",
   "metadata": {},
   "source": [
    "### Exercise 1"
   ]
  },
  {
   "cell_type": "markdown",
   "id": "eedbc484-da4d-4f9c-9343-e1d44311a87e",
   "metadata": {},
   "source": [
    "The marketing team wants to know the top 5 less common customer locations. Create a pandas Series object that contains the customer locations and their frequencies, and then retrieve the top 5 less common locations in ascending order."
   ]
  },
  {
   "cell_type": "code",
   "execution_count": 17,
   "id": "efdc8605-273e-4dce-be1d-429b3884991c",
   "metadata": {},
   "outputs": [
    {
     "name": "stdout",
     "output_type": "stream",
     "text": [
      "Index(['Customer', 'ST', 'GENDER', 'Education', 'Customer Lifetime Value',\n",
      "       'Income', 'Monthly Premium Auto', 'Number of Open Complaints',\n",
      "       'Policy Type', 'Vehicle Class', 'Total Claim Amount'],\n",
      "      dtype='object')\n"
     ]
    }
   ],
   "source": [
    "print(df.columns)"
   ]
  },
  {
   "cell_type": "code",
   "execution_count": 18,
   "id": "2dca5073-4520-4f42-9390-4b92733284ed",
   "metadata": {},
   "outputs": [
    {
     "name": "stdout",
     "output_type": "stream",
     "text": [
      "ST\n",
      "AZ             25\n",
      "WA             30\n",
      "Washington     81\n",
      "Nevada         98\n",
      "Cali          120\n",
      "Name: count, dtype: int64\n"
     ]
    }
   ],
   "source": [
    "location_counts = df[\"ST\"].value_counts(ascending=True)\n",
    "print(location_counts.head(5))"
   ]
  },
  {
   "cell_type": "markdown",
   "id": "0ce80f43-4afa-43c7-a78a-c917444da4e0",
   "metadata": {},
   "source": [
    "### Exercise 2\n",
    "\n",
    "The sales team wants to know the total number of policies sold for each type of policy. Create a pandas Series object that contains the policy types and their total number of policies sold, and then retrieve the policy type with the highest number of policies sold."
   ]
  },
  {
   "cell_type": "markdown",
   "id": "a9f13997-1555-4f98-aca6-970fda1d2c3f",
   "metadata": {},
   "source": [
    "*Hint:*\n",
    "- *Using value_counts() method simplifies this analysis.*\n",
    "- *Futhermore, there is a method that returns the index of the maximum value in a column or row.*\n"
   ]
  },
  {
   "cell_type": "code",
   "execution_count": 21,
   "id": "bcfad6c1-9af2-4b0b-9aa9-0dc5c17473c0",
   "metadata": {},
   "outputs": [
    {
     "name": "stdout",
     "output_type": "stream",
     "text": [
      "Policy Type\n",
      "Personal Auto     780\n",
      "Corporate Auto    234\n",
      "Special Auto       57\n",
      "Name: count, dtype: int64\n",
      "Highest number of policies sold: Personal Auto\n"
     ]
    }
   ],
   "source": [
    "policy_counts = df[\"Policy Type\"].value_counts()\n",
    "print(policy_counts)\n",
    "\n",
    "top_policy = policy_counts.idxmax()\n",
    "print(\"Highest number of policies sold:\", top_policy)"
   ]
  },
  {
   "cell_type": "markdown",
   "id": "0b863fd3-bf91-4d5d-86eb-be29ed9f5b70",
   "metadata": {},
   "source": [
    "### Exercise 3\n",
    "\n",
    "The sales team wants to know if customers with Personal Auto have a lower income than those with Corporate Auto. How does the average income compare between the two policy types?"
   ]
  },
  {
   "cell_type": "markdown",
   "id": "b1386d75-2810-4aa1-93e0-9485aa12d552",
   "metadata": {},
   "source": [
    "- Use *loc* to create two dataframes: one containing only Personal Auto policies and one containing only Corporate Auto policies.\n",
    "- Calculate the average income for each policy.\n",
    "- Print the results."
   ]
  },
  {
   "cell_type": "code",
   "execution_count": 23,
   "id": "0c0563cf-6f8b-463d-a321-651a972f82e5",
   "metadata": {},
   "outputs": [
    {
     "name": "stdout",
     "output_type": "stream",
     "text": [
      "Average income Personal Auto: 38180.69871794872\n",
      "Average income Corporate Auto: 41390.31196581197\n"
     ]
    }
   ],
   "source": [
    "personal_auto = df.loc[df[\"Policy Type\"] == \"Personal Auto\"]\n",
    "corporate_auto = df.loc[df[\"Policy Type\"] == \"Corporate Auto\"]\n",
    "\n",
    "avg_income_personal = personal_auto[\"Income\"].mean()\n",
    "avg_income_corporate = corporate_auto[\"Income\"].mean()\n",
    "\n",
    "print(\"Average income Personal Auto:\", avg_income_personal)\n",
    "print(\"Average income Corporate Auto:\", avg_income_corporate)"
   ]
  },
  {
   "cell_type": "markdown",
   "id": "80b16c27-f4a5-4727-a229-1f88671cf4e2",
   "metadata": {},
   "source": [
    "### Bonus: Exercise 4\n"
   ]
  },
  {
   "cell_type": "markdown",
   "id": "ac584986-299b-475f-ac2e-928c16c3f512",
   "metadata": {},
   "source": [
    "Your goal is to identify customers with a high policy claim amount.\n",
    "\n",
    "Instructions:\n",
    "\n",
    "- Review again the statistics for total claim amount to gain an understanding of the data.\n",
    "- To identify potential areas for improving customer retention and profitability, we want to focus on customers with a high policy claim amount. Consider customers with a high policy claim amount to be those in the top 25% of the total claim amount. Create a pandas DataFrame object that contains information about customers with a policy claim amount greater than the 75th percentile.\n",
    "- Use DataFrame methods to calculate summary statistics about the high policy claim amount data. "
   ]
  },
  {
   "cell_type": "markdown",
   "id": "4e3af5f1-6023-4b05-9c01-d05392daa650",
   "metadata": {},
   "source": [
    "*Note: When analyzing data, we often want to focus on certain groups of values to gain insights. Percentiles are a useful tool to help us define these groups. A percentile is a measure that tells us what percentage of values in a dataset are below a certain value. For example, the 75th percentile represents the value below which 75% of the data falls. Similarly, the 25th percentile represents the value below which 25% of the data falls. When we talk about the top 25%, we are referring to the values that fall above the 75th percentile, which represent the top quarter of the data. On the other hand, when we talk about the bottom 25%, we are referring to the values that fall below the 25th percentile, which represent the bottom quarter of the data. By focusing on these groups, we can identify patterns and trends that may be useful for making decisions and taking action.*\n",
    "\n",
    "*Hint: look for a method that gives you the percentile or quantile 0.75 and 0.25 for a Pandas Series.*"
   ]
  },
  {
   "cell_type": "markdown",
   "id": "2d234634-50bd-41e0-88f7-d5ba684455d1",
   "metadata": {},
   "source": [
    "*Hint 2: check `Boolean selection according to the values of a single column` in https://towardsdatascience.com/filtering-data-frames-in-pandas-b570b1f834b9*"
   ]
  },
  {
   "cell_type": "code",
   "execution_count": 27,
   "id": "b731bca6-a760-4860-a27b-a33efa712ce0",
   "metadata": {},
   "outputs": [
    {
     "name": "stdout",
     "output_type": "stream",
     "text": [
      "Client with high policy claim amount (Top 25%):\n",
      "   Customer          ST GENDER Education  Customer Lifetime Value   Income  \\\n",
      "1   QZ44356     Arizona      F  Bachelor                      NaN      0.0   \n",
      "2   AI49188      Nevada      F  Bachelor                      NaN  48767.0   \n",
      "17  OE15005        Cali    NaN   College                      NaN  28855.0   \n",
      "23  TZ98966      Nevada    NaN  Bachelor                      NaN      0.0   \n",
      "26  US89481  California    NaN  Bachelor                      NaN      0.0   \n",
      "\n",
      "    Monthly Premium Auto  Number of Open Complaints     Policy Type  \\\n",
      "1                   94.0                        NaN   Personal Auto   \n",
      "2                  108.0                        NaN   Personal Auto   \n",
      "17                 101.0                        NaN   Personal Auto   \n",
      "23                  73.0                        NaN  Corporate Auto   \n",
      "26                 111.0                        NaN   Personal Auto   \n",
      "\n",
      "    Vehicle Class  Total Claim Amount  \n",
      "1   Four-Door Car         1131.464935  \n",
      "2    Two-Door Car          566.472247  \n",
      "17            SUV          647.442031  \n",
      "23  Four-Door Car          554.376763  \n",
      "26  Four-Door Car          799.200000  \n",
      "\n",
      "Statistics for high policy claim amount:\n",
      "count     264.000000\n",
      "mean      782.228263\n",
      "std       292.751640\n",
      "min       537.600000\n",
      "25%       606.521741\n",
      "50%       679.597985\n",
      "75%       851.400000\n",
      "max      2893.239678\n",
      "Name: Total Claim Amount, dtype: float64\n"
     ]
    }
   ],
   "source": [
    "Q75 = df[\"Total Claim Amount\"].quantile(0.75)\n",
    "high_claims = df[df[\"Total Claim Amount\"] > Q75]\n",
    "\n",
    "print(\"Client with high policy claim amount (Top 25%):\")\n",
    "print(high_claims.head())\n",
    "\n",
    "print(\"\\nStatistics for high policy claim amount:\")\n",
    "print(high_claims[\"Total Claim Amount\"].describe())"
   ]
  }
 ],
 "metadata": {
  "kernelspec": {
   "display_name": "Python [conda env:base] *",
   "language": "python",
   "name": "conda-base-py"
  },
  "language_info": {
   "codemirror_mode": {
    "name": "ipython",
    "version": 3
   },
   "file_extension": ".py",
   "mimetype": "text/x-python",
   "name": "python",
   "nbconvert_exporter": "python",
   "pygments_lexer": "ipython3",
   "version": "3.13.5"
  }
 },
 "nbformat": 4,
 "nbformat_minor": 5
}
